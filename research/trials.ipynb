{
 "cells": [
  {
   "cell_type": "code",
   "execution_count": null,
   "metadata": {},
   "outputs": [],
   "source": [
    "from datasets import load_dataset\n",
    "import jsonlines\n",
    "\n",
    "from transformers import AutoTokenizer, AutoModelForSeq2SeqLM"
   ]
  },
  {
   "cell_type": "code",
   "execution_count": 2,
   "metadata": {},
   "outputs": [],
   "source": [
    "data_file = \"adamawa_english_fulfulde_french_fub.tsv\"\n",
    "dataset = load_dataset(\"csv\", data_files=data_file, delimiter=\"\\t\", split=\"train\")"
   ]
  },
  {
   "cell_type": "code",
   "execution_count": 3,
   "metadata": {},
   "outputs": [],
   "source": [
    "with jsonlines.open(\"adamawa_english_fulfulde_french_fub.jsonl\", \"w\") as writer:\n",
    "    for i in range(len(dataset)):\n",
    "        writer.write({\"english\": dataset[i]['English'], \"fulfulde\": dataset[i]['Fulfulde'], \"french\": dataset[i]['French']})\n",
    "        "
   ]
  },
  {
   "cell_type": "code",
   "execution_count": null,
   "metadata": {},
   "outputs": [],
   "source": [
    "data_file = \"adamawa_english_fulfulde_french_fub.jsonl\"\n",
    "dataset = load_dataset(\"json\", data_files=data_file, split=\"train\")\n",
    "print(dataset[1])"
   ]
  },
  {
   "cell_type": "code",
   "execution_count": 53,
   "metadata": {},
   "outputs": [],
   "source": [
    "def tokenize_function(examples, tokenizer):\n",
    "    prompt_template = \"\"\"en: {english}\\nff: {fulfulde}\"\"\"\n",
    "    return tokenizer(prompt_template.format(**examples), padding=\"max_length\", truncation=True, max_length=32, add_special_tokens=True)\n",
    "\n",
    "    # return tokenizer(examples[\"text\"], padding=\"max_length\", truncation=True)"
   ]
  },
  {
   "cell_type": "code",
   "execution_count": 54,
   "metadata": {},
   "outputs": [],
   "source": [
    "model_name = \"NYTK/translation-marianmt-en-hu\"\n"
   ]
  },
  {
   "cell_type": "code",
   "execution_count": 55,
   "metadata": {},
   "outputs": [],
   "source": [
    "special_chars = ['Ɓ','ɓ', 'Ɗ','ɗ','Ŋ','ŋ','Ƴ','ƴ','Ñ','ñ']"
   ]
  },
  {
   "cell_type": "code",
   "execution_count": null,
   "metadata": {},
   "outputs": [],
   "source": [
    "tokenizer = AutoTokenizer.from_pretrained(model_name)"
   ]
  },
  {
   "cell_type": "code",
   "execution_count": null,
   "metadata": {},
   "outputs": [],
   "source": [
    "text = dataset[1]\n",
    "tokens = tokenize_function(text, tokenizer)\n",
    "subwords = tokenizer.convert_ids_to_tokens(tokens[\"input_ids\"])\n",
    "print(tokens)\n",
    "print(subwords)"
   ]
  },
  {
   "cell_type": "code",
   "execution_count": null,
   "metadata": {},
   "outputs": [],
   "source": [
    "num_added_tokens = tokenizer.add_tokens(special_chars)\n",
    "print(f\"Added {num_added_tokens} tokens to the vocabulary\")"
   ]
  },
  {
   "cell_type": "code",
   "execution_count": null,
   "metadata": {},
   "outputs": [],
   "source": [
    "tokens = tokenize_function(text, tokenizer)\n",
    "subwords = tokenizer.convert_ids_to_tokens(tokens[\"input_ids\"])\n",
    "print(tokens)\n",
    "print(subwords)"
   ]
  },
  {
   "cell_type": "code",
   "execution_count": 60,
   "metadata": {},
   "outputs": [],
   "source": [
    "english = \"Hello, how are you?\"\n",
    "fulfulde = \"Sannu, a jamo?\"\n",
    "\n",
    "input_json = {\"english\": english, \"fulfulde\": fulfulde}"
   ]
  },
  {
   "cell_type": "code",
   "execution_count": null,
   "metadata": {},
   "outputs": [],
   "source": [
    "tokens = tokenize_function(input_json, tokenizer)\n",
    "subwords = tokenizer.convert_ids_to_tokens(tokens[\"input_ids\"])\n",
    "print(tokens)\n",
    "print(subwords)"
   ]
  },
  {
   "cell_type": "code",
   "execution_count": 62,
   "metadata": {},
   "outputs": [],
   "source": [
    "model_name = \"Helsinki-NLP/opus-mt-en-ha\"\n",
    "tokenizer = AutoTokenizer.from_pretrained(model_name)"
   ]
  },
  {
   "cell_type": "code",
   "execution_count": null,
   "metadata": {},
   "outputs": [],
   "source": [
    "tokens = tokenize_function(text, tokenizer)\n",
    "subwords = tokenizer.convert_ids_to_tokens(tokens[\"input_ids\"])\n",
    "print(tokens)\n",
    "print(subwords)"
   ]
  },
  {
   "cell_type": "code",
   "execution_count": 64,
   "metadata": {},
   "outputs": [],
   "source": [
    "from ollama import chat"
   ]
  },
  {
   "cell_type": "code",
   "execution_count": null,
   "metadata": {},
   "outputs": [],
   "source": [
    "prompt_template = \"\"\"\n",
    "{priming}\n",
    "\n",
    "{question}\n",
    "\n",
    "{decorator}\n",
    "\n",
    "Your solution:\n",
    "\"\"\"\n",
    "\n",
    "priming_text = \"You are an expert at writing clear, concise, Python code.\""
   ]
  },
  {
   "cell_type": "code",
   "execution_count": null,
   "metadata": {},
   "outputs": [],
   "source": [
    "prompt = \"Explain this code:\\n\\n{code_snippet}\"\n",
    "code_snippet = \"def add(a, b):\\n    return a + b\"\n",
    "formatted_prompt = prompt.format(code_snippet=code_snippet)\n",
    "\n",
    "# Call your local model – you can adjust parameters via the 'options' dictionary,\n",
    "# e.g. setting temperature, max tokens, etc.\n",
    "response = chat(\n",
    "    model=\"llama3.2\",  # replace with your desired model name (after pulling it via 'ollama pull')\n",
    "    messages=[{'role': 'user', 'content': formatted_prompt}],\n",
    "    options={'temperature': 0.7}  # set temperature, max tokens, etc.\n",
    ")\n",
    "\n",
    "# Print the assistant's response\n",
    "print(response['message']['content'])"
   ]
  },
  {
   "cell_type": "code",
   "execution_count": null,
   "metadata": {},
   "outputs": [],
   "source": [
    "from assistant import generate_response\n",
    "\n",
    "task_type = \"code_generation\" \n",
    "\n",
    "\n",
    "response = generate_response(task_type)\n",
    "\n",
    "# Display the response\n",
    "print(\"\\n=== AI Response ===\\n\")\n",
    "print(response)\n"
   ]
  },
  {
   "cell_type": "code",
   "execution_count": null,
   "metadata": {},
   "outputs": [],
   "source": [
    "custom_inputs = {\n",
    "    \"priming\": \"You are an expert Python programmer who writes efficient and optimized code.\",\n",
    "    \"question\": \"Write a Python function to find the factorial of a number.\",\n",
    "    \"decorator\": \"Explain each step in detail.\"\n",
    "}\n",
    "\n",
    "# Call with arguments\n",
    "response = generate_response(\"code_generation\", custom_inputs)\n",
    "\n",
    "# Display the response\n",
    "print(\"\\n=== AI Response ===\\n\")\n",
    "print(response)"
   ]
  },
  {
   "cell_type": "code",
   "execution_count": null,
   "metadata": {},
   "outputs": [],
   "source": [
    "\n"
   ]
  }
 ],
 "metadata": {
  "kernelspec": {
   "display_name": ".venv",
   "language": "python",
   "name": "python3"
  },
  "language_info": {
   "codemirror_mode": {
    "name": "ipython",
    "version": 3
   },
   "file_extension": ".py",
   "mimetype": "text/x-python",
   "name": "python",
   "nbconvert_exporter": "python",
   "pygments_lexer": "ipython3",
   "version": "3.13.1"
  }
 },
 "nbformat": 4,
 "nbformat_minor": 2
}
