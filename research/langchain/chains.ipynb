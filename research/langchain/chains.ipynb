{
 "cells": [
  {
   "cell_type": "code",
   "execution_count": 1,
   "metadata": {},
   "outputs": [],
   "source": [
    "llm_model = 'llama3.2:latest' \n",
    "# llm_model =  'deepseek-r1:7b'"
   ]
  },
  {
   "cell_type": "code",
   "execution_count": 2,
   "metadata": {},
   "outputs": [],
   "source": [
    "from langchain_ollama import ChatOllama\n",
    "from langchain.prompts import ChatPromptTemplate\n",
    "from langchain.chains import LLMChain"
   ]
  },
  {
   "cell_type": "code",
   "execution_count": 3,
   "metadata": {},
   "outputs": [],
   "source": [
    "llm = ChatOllama(model=llm_model, temperature=0.9)"
   ]
  },
  {
   "cell_type": "code",
   "execution_count": 4,
   "metadata": {},
   "outputs": [],
   "source": [
    "prompt = ChatPromptTemplate.from_template(\n",
    "    \"What is the best name to describe \\\n",
    "    a company that makes {product}?\"\n",
    ")"
   ]
  },
  {
   "cell_type": "code",
   "execution_count": 5,
   "metadata": {},
   "outputs": [
    {
     "name": "stderr",
     "output_type": "stream",
     "text": [
      "/var/folders/0t/xlg3nq8x63j3nxrs9x50yw9m0000gn/T/ipykernel_21358/1305865249.py:1: LangChainDeprecationWarning: The class `LLMChain` was deprecated in LangChain 0.1.17 and will be removed in 1.0. Use :meth:`~RunnableSequence, e.g., `prompt | llm`` instead.\n",
      "  chain = LLMChain(llm=llm, prompt=prompt)\n"
     ]
    }
   ],
   "source": [
    "chain = LLMChain(llm=llm, prompt=prompt)"
   ]
  },
  {
   "cell_type": "code",
   "execution_count": 6,
   "metadata": {},
   "outputs": [
    {
     "data": {
      "text/plain": [
       "{'product': 'Queen Size Sheet Set',\n",
       " 'text': \"Here are some suggestions for a company name that makes Queen-size sheet sets:\\n\\n1. **Royal Sheets**: A nod to the iconic British monarch, conveying luxury and comfort.\\n2. **Queen's Bedding Co.**: Straightforward and regal, emphasizing the focus on queen-size sheet sets.\\n3. **Sheets of Majesty**: Evoking feelings of grandeur and opulence, perfect for a premium bedding brand.\\n4. **Regalia Linens**: Suggesting elegance and sophistication, with a touch of royalty.\\n5. **The Royal Blanket Co.**: Emphasizing the comfort and warmth of a high-quality queen-size sheet set.\\n6. **Queen's Rest Bedding**: Conveying a sense of relaxation and rejuvenation, perfect for those seeking a good night's sleep.\\n7. **Luxe Sheets by [Your Name]**: Adding a personal touch, with a focus on high-end quality and comfort.\\n8. **The Queen's Suite**: Suggesting an all-encompassing bedding solution that meets the needs of even the most discerning customers.\\n\\nChoose a name that reflects your brand values, tone, and style, and don't forget to check for domain name availability before finalizing your choice!\"}"
      ]
     },
     "execution_count": 6,
     "metadata": {},
     "output_type": "execute_result"
    }
   ],
   "source": [
    "product = \"Queen Size Sheet Set\"\n",
    "chain.invoke(product)"
   ]
  },
  {
   "cell_type": "markdown",
   "metadata": {},
   "source": [
    "SimpleSequentialChain"
   ]
  },
  {
   "cell_type": "code",
   "execution_count": 7,
   "metadata": {},
   "outputs": [],
   "source": [
    "from langchain.chains import SimpleSequentialChain"
   ]
  },
  {
   "cell_type": "code",
   "execution_count": 8,
   "metadata": {},
   "outputs": [],
   "source": [
    "# prompt template 1\n",
    "first_prompt = ChatPromptTemplate.from_template(\n",
    "    \"What is the best name to describe \\\n",
    "    a company that makes {product}?\"\n",
    ")\n",
    "\n",
    "# Chain 1\n",
    "chain_one = LLMChain(llm=llm, prompt=first_prompt)"
   ]
  },
  {
   "cell_type": "code",
   "execution_count": 9,
   "metadata": {},
   "outputs": [],
   "source": [
    "# prompt template 2\n",
    "second_prompt = ChatPromptTemplate.from_template(\n",
    "    \"Write a 20 words description for the following \\\n",
    "    company:{company_name}\"\n",
    ")\n",
    "# chain 2\n",
    "chain_two = LLMChain(llm=llm, prompt=second_prompt)"
   ]
  },
  {
   "cell_type": "code",
   "execution_count": 10,
   "metadata": {},
   "outputs": [],
   "source": [
    "overall_simple_chain = SimpleSequentialChain(chains=[chain_one, chain_two],\n",
    "                                             verbose=True\n",
    "                                            )"
   ]
  },
  {
   "cell_type": "code",
   "execution_count": 11,
   "metadata": {},
   "outputs": [
    {
     "name": "stderr",
     "output_type": "stream",
     "text": [
      "/var/folders/0t/xlg3nq8x63j3nxrs9x50yw9m0000gn/T/ipykernel_21358/228193363.py:1: LangChainDeprecationWarning: The method `Chain.run` was deprecated in langchain 0.1.0 and will be removed in 1.0. Use :meth:`~invoke` instead.\n",
      "  overall_simple_chain.run(product)\n"
     ]
    },
    {
     "name": "stdout",
     "output_type": "stream",
     "text": [
      "\n",
      "\n",
      "\u001b[1m> Entering new SimpleSequentialChain chain...\u001b[0m\n",
      "\u001b[36;1m\u001b[1;3mHere are some suggestions for a company name that sells queen-size sheet sets:\n",
      "\n",
      "1. **Royal Sheets**: A straightforward name that evokes the idea of luxury and royalty, which fits well with the queen-size theme.\n",
      "2. **Queen's Rest**: This name plays on the idea of getting a good night's sleep, which is what customers are looking for when they buy sheets.\n",
      "3. **Sheet Sanctuary**: This name suggests a safe haven where customers can find comfortable and cozy bedding.\n",
      "4. **Regal Linens**: \"Regal\" conveys a sense of luxury and high-end quality, while \"linens\" is a general term that encompasses the company's products.\n",
      "5. **Queen's Comfort Co.**: Simple and straightforward, this name tells customers exactly what to expect from their sheets.\n",
      "6. **Soft Touch Bedding**: This name emphasizes the comfort and softness of the sheets, which is likely a key selling point for customers.\n",
      "7. **Her Majesty's Sheets**: A playful and whimsical name that adds a touch of personality to the brand.\n",
      "8. **Bedazzled Bedding Co.**: This name suggests a company that can provide truly exceptional bedding that will make customers feel special.\n",
      "9. **The Queen's Closet**: This name implies that the sheets are a treasured possession, which could help build customer loyalty and trust.\n",
      "10. **Slumber & Luxe**: This name combines two desirable concepts: restful sleep and luxury, which should appeal to customers looking for high-quality bedding.\n",
      "\n",
      "Choose a name that reflects your brand values and personality, and make sure it's easy to remember and pronounce!\u001b[0m\n",
      "\u001b[33;1m\u001b[1;3mHere are the descriptions for each of the company names:\n",
      "\n",
      "1. **Royal Sheets**: \"Luxurious queen-size sheet sets fit for royalty.\"\n",
      "\n",
      "2. **Queen's Rest**: \"Find peaceful slumber with our high-quality queen-size sheets.\"\n",
      "\n",
      "3. **Sheet Sanctuary**: \"Cozy up in comfort with our soothing queen-size bedding solutions.\"\n",
      "\n",
      "4. **Regal Linens**: \"Experience the best of luxury with our regal and refined queen-size linens.\"\n",
      "\n",
      "5. **Queen's Comfort Co.**: \"Your trusted source for soft, comfortable queen-size sheets.\"\n",
      "\n",
      "6. **Soft Touch Bedding**: \"Indulge in the comfort of our luxurious queen-size bedding.\"\n",
      "\n",
      "7. **Her Majesty's Sheets**: \"Whimsical queen-size sheet sets fit for a royal night's sleep.\"\n",
      "\n",
      "8. **Bedazzled Bedding Co.**: \"Elevate your sleep with exceptional, bedazzling queen-size bedding.\"\n",
      "\n",
      "9. **The Queen's Closet**: \"Treasured queen-size sheets for the discerning sleeper.\"\n",
      "\n",
      "10. **Slumber & Luxe**: \"Surrender to restful slumber and luxurious comfort in every thread.\"\u001b[0m\n",
      "\n",
      "\u001b[1m> Finished chain.\u001b[0m\n"
     ]
    },
    {
     "data": {
      "text/plain": [
       "'Here are the descriptions for each of the company names:\\n\\n1. **Royal Sheets**: \"Luxurious queen-size sheet sets fit for royalty.\"\\n\\n2. **Queen\\'s Rest**: \"Find peaceful slumber with our high-quality queen-size sheets.\"\\n\\n3. **Sheet Sanctuary**: \"Cozy up in comfort with our soothing queen-size bedding solutions.\"\\n\\n4. **Regal Linens**: \"Experience the best of luxury with our regal and refined queen-size linens.\"\\n\\n5. **Queen\\'s Comfort Co.**: \"Your trusted source for soft, comfortable queen-size sheets.\"\\n\\n6. **Soft Touch Bedding**: \"Indulge in the comfort of our luxurious queen-size bedding.\"\\n\\n7. **Her Majesty\\'s Sheets**: \"Whimsical queen-size sheet sets fit for a royal night\\'s sleep.\"\\n\\n8. **Bedazzled Bedding Co.**: \"Elevate your sleep with exceptional, bedazzling queen-size bedding.\"\\n\\n9. **The Queen\\'s Closet**: \"Treasured queen-size sheets for the discerning sleeper.\"\\n\\n10. **Slumber & Luxe**: \"Surrender to restful slumber and luxurious comfort in every thread.\"'"
      ]
     },
     "execution_count": 11,
     "metadata": {},
     "output_type": "execute_result"
    }
   ],
   "source": [
    "overall_simple_chain.run(product)"
   ]
  },
  {
   "cell_type": "markdown",
   "metadata": {},
   "source": [
    "Sequential Chain"
   ]
  },
  {
   "cell_type": "code",
   "execution_count": 12,
   "metadata": {},
   "outputs": [],
   "source": [
    "from langchain.chains import SequentialChain"
   ]
  },
  {
   "cell_type": "code",
   "execution_count": 13,
   "metadata": {},
   "outputs": [],
   "source": [
    "# prompt template 1: translate to english\n",
    "first_prompt = ChatPromptTemplate.from_template(\n",
    "    \"Translate the following review to english:\"\n",
    "    \"\\n\\n{Review}\"\n",
    ")\n",
    "# chain 1: input= Review and output= English_Review\n",
    "chain_one = LLMChain(llm=llm, prompt=first_prompt, \n",
    "                     output_key=\"English_Review\"\n",
    "                    )"
   ]
  },
  {
   "cell_type": "code",
   "execution_count": 14,
   "metadata": {},
   "outputs": [],
   "source": [
    "second_prompt = ChatPromptTemplate.from_template(\n",
    "    \"Can you summarize the following review in 1 sentence:\"\n",
    "    \"\\n\\n{English_Review}\"\n",
    ")\n",
    "# chain 2: input= English_Review and output= summary\n",
    "chain_two = LLMChain(llm=llm, prompt=second_prompt, \n",
    "                     output_key=\"summary\"\n",
    "                    )\n"
   ]
  },
  {
   "cell_type": "code",
   "execution_count": 15,
   "metadata": {},
   "outputs": [],
   "source": [
    "# prompt template 3: translate to english\n",
    "third_prompt = ChatPromptTemplate.from_template(\n",
    "    \"What language is the following review:\\n\\n{Review}\"\n",
    ")\n",
    "# chain 3: input= Review and output= language\n",
    "chain_three = LLMChain(llm=llm, prompt=third_prompt,\n",
    "                       output_key=\"language\"\n",
    "                      )\n"
   ]
  },
  {
   "cell_type": "code",
   "execution_count": 16,
   "metadata": {},
   "outputs": [],
   "source": [
    "\n",
    "# prompt template 4: follow up message\n",
    "fourth_prompt = ChatPromptTemplate.from_template(\n",
    "    \"Write a follow up response to the following \"\n",
    "    \"summary in the specified language:\"\n",
    "    \"\\n\\nSummary: {summary}\\n\\nLanguage: {language}\"\n",
    ")\n",
    "# chain 4: input= summary, language and output= followup_message\n",
    "chain_four = LLMChain(llm=llm, prompt=fourth_prompt,\n",
    "                      output_key=\"followup_message\"\n",
    "                     )\n"
   ]
  },
  {
   "cell_type": "code",
   "execution_count": 17,
   "metadata": {},
   "outputs": [],
   "source": [
    "overall_chain = SequentialChain(\n",
    "    chains=[chain_one, chain_two, chain_three, chain_four],\n",
    "    input_variables=[\"Review\"],\n",
    "    output_variables=[\"English_Review\", \"summary\",\"followup_message\"],\n",
    "    verbose=True\n",
    ")"
   ]
  },
  {
   "cell_type": "code",
   "execution_count": 18,
   "metadata": {},
   "outputs": [
    {
     "name": "stdout",
     "output_type": "stream",
     "text": [
      "\n",
      "\n",
      "\u001b[1m> Entering new SequentialChain chain...\u001b[0m\n"
     ]
    },
    {
     "name": "stderr",
     "output_type": "stream",
     "text": [
      "/var/folders/0t/xlg3nq8x63j3nxrs9x50yw9m0000gn/T/ipykernel_21358/3303964796.py:2: LangChainDeprecationWarning: The method `Chain.__call__` was deprecated in langchain 0.1.0 and will be removed in 1.0. Use :meth:`~invoke` instead.\n",
      "  overall_chain(review)\n"
     ]
    },
    {
     "name": "stdout",
     "output_type": "stream",
     "text": [
      "\n",
      "\u001b[1m> Finished chain.\u001b[0m\n"
     ]
    },
    {
     "data": {
      "text/plain": [
       "{'Review': \"J'ai acheté ce produit pour mon fils et il l'adore. Il est très confortable et doux. Le seul problème est qu'il est un peu petit pour lui.\",\n",
       " 'English_Review': 'Here is the translation of the review:\\n\\n\"I bought this product for my son and he loves it. It\\'s very comfortable and soft. The only issue is that it\\'s a bit small for him.\"',\n",
       " 'summary': 'The reviewer purchased this product for their son, who loves its comfort and softness, but finds it too small for his needs.',\n",
       " 'followup_message': \"Réponse de suivi :\\n\\nMalheureusement, malgré son enthousiasme pour les confort et la douceur du produit, mon fils se sent toujours un peu étroit dessus. Il aimerait une taille plus grande pour pouvoir s'adapter confortablement à ses besoins quotidiens. Malgré cela, il continue à l'utiliser régulièrement car il aime son style et sa qualité, mais j'aurais aimé qu'il fût disponible en taille plus grande.\"}"
      ]
     },
     "execution_count": 18,
     "metadata": {},
     "output_type": "execute_result"
    }
   ],
   "source": [
    "review = \"J'ai acheté ce produit pour mon fils et il l'adore. Il est très confortable et doux. Le seul problème est qu'il est un peu petit pour lui.\"\n",
    "overall_chain(review)"
   ]
  },
  {
   "cell_type": "markdown",
   "metadata": {},
   "source": [
    "Router Chain"
   ]
  },
  {
   "cell_type": "code",
   "execution_count": 19,
   "metadata": {},
   "outputs": [],
   "source": [
    "physics_template = \"\"\"You are a very smart physics professor. \\\n",
    "You are great at answering questions about physics in a concise\\\n",
    "and easy to understand manner. \\\n",
    "When you don't know the answer to a question you admit\\\n",
    "that you don't know.\n",
    "\n",
    "Here is a question:\n",
    "{input}\"\"\"\n",
    "\n",
    "\n",
    "math_template = \"\"\"You are a very good mathematician. \\\n",
    "You are great at answering math questions. \\\n",
    "You are so good because you are able to break down \\\n",
    "hard problems into their component parts, \n",
    "answer the component parts, and then put them together\\\n",
    "to answer the broader question.\n",
    "\n",
    "Here is a question:\n",
    "{input}\"\"\"\n",
    "\n",
    "history_template = \"\"\"You are a very good historian. \\\n",
    "You have an excellent knowledge of and understanding of people,\\\n",
    "events and contexts from a range of historical periods. \\\n",
    "You have the ability to think, reflect, debate, discuss and \\\n",
    "evaluate the past. You have a respect for historical evidence\\\n",
    "and the ability to make use of it to support your explanations \\\n",
    "and judgements.\n",
    "\n",
    "Here is a question:\n",
    "{input}\"\"\"\n",
    "\n",
    "\n",
    "computerscience_template = \"\"\" You are a successful computer scientist.\\\n",
    "You have a passion for creativity, collaboration,\\\n",
    "forward-thinking, confidence, strong problem-solving capabilities,\\\n",
    "understanding of theories and algorithms, and excellent communication \\\n",
    "skills. You are great at answering coding questions. \\\n",
    "You are so good because you know how to solve a problem by \\\n",
    "describing the solution in imperative steps \\\n",
    "that a machine can easily interpret and you know how to \\\n",
    "choose a solution that has a good balance between \\\n",
    "time complexity and space complexity. \n",
    "\n",
    "Here is a question:\n",
    "{input}\"\"\""
   ]
  },
  {
   "cell_type": "code",
   "execution_count": 20,
   "metadata": {},
   "outputs": [],
   "source": [
    "prompt_infos = [\n",
    "    {\n",
    "        \"name\": \"physics\", \n",
    "        \"description\": \"Good for answering questions about physics\", \n",
    "        \"prompt_template\": physics_template\n",
    "    },\n",
    "    {\n",
    "        \"name\": \"math\", \n",
    "        \"description\": \"Good for answering math questions\", \n",
    "        \"prompt_template\": math_template\n",
    "    },\n",
    "    {\n",
    "        \"name\": \"History\", \n",
    "        \"description\": \"Good for answering history questions\", \n",
    "        \"prompt_template\": history_template\n",
    "    },\n",
    "    {\n",
    "        \"name\": \"computer science\", \n",
    "        \"description\": \"Good for answering computer science questions\", \n",
    "        \"prompt_template\": computerscience_template\n",
    "    }\n",
    "]"
   ]
  },
  {
   "cell_type": "code",
   "execution_count": 21,
   "metadata": {},
   "outputs": [],
   "source": [
    "from langchain.chains.router import MultiPromptChain\n",
    "from langchain.chains.router.llm_router import LLMRouterChain,RouterOutputParser\n",
    "from langchain.prompts import PromptTemplate"
   ]
  },
  {
   "cell_type": "code",
   "execution_count": 22,
   "metadata": {},
   "outputs": [],
   "source": [
    "llm = ChatOllama(model=llm_model, temperature=0.5)"
   ]
  },
  {
   "cell_type": "code",
   "execution_count": 23,
   "metadata": {},
   "outputs": [],
   "source": [
    "destination_chains = {}\n",
    "for p_info in prompt_infos:\n",
    "    name = p_info[\"name\"]\n",
    "    prompt_template = p_info[\"prompt_template\"]\n",
    "    prompt = ChatPromptTemplate.from_template(template=prompt_template)\n",
    "    chain = LLMChain(llm=llm, prompt=prompt)\n",
    "    destination_chains[name] = chain  \n",
    "    \n",
    "destinations = [f\"{p['name']}: {p['description']}\" for p in prompt_infos]\n",
    "destinations_str = \"\\n\".join(destinations)"
   ]
  },
  {
   "cell_type": "code",
   "execution_count": 24,
   "metadata": {},
   "outputs": [
    {
     "name": "stdout",
     "output_type": "stream",
     "text": [
      "['physics: Good for answering questions about physics', 'math: Good for answering math questions', 'History: Good for answering history questions', 'computer science: Good for answering computer science questions']\n"
     ]
    }
   ],
   "source": [
    "print(destinations)"
   ]
  },
  {
   "cell_type": "code",
   "execution_count": 25,
   "metadata": {},
   "outputs": [],
   "source": [
    "default_prompt = ChatPromptTemplate.from_template(\"{input}\")\n",
    "default_chain = LLMChain(llm=llm, prompt=default_prompt)"
   ]
  },
  {
   "cell_type": "code",
   "execution_count": 26,
   "metadata": {},
   "outputs": [
    {
     "name": "stderr",
     "output_type": "stream",
     "text": [
      "<>:1: SyntaxWarning: invalid escape sequence '\\ '\n",
      "<>:1: SyntaxWarning: invalid escape sequence '\\ '\n",
      "/var/folders/0t/xlg3nq8x63j3nxrs9x50yw9m0000gn/T/ipykernel_21358/3710404048.py:1: SyntaxWarning: invalid escape sequence '\\ '\n",
      "  MULTI_PROMPT_ROUTER_TEMPLATE = \"\"\"Given a raw text input to a \\\n"
     ]
    }
   ],
   "source": [
    "MULTI_PROMPT_ROUTER_TEMPLATE = \"\"\"Given a raw text input to a \\\n",
    "language model select the model prompt best suited for the input. \\\n",
    "You will be given the names of the available prompts and a \\\n",
    "description of what the prompt is best suited for. \\\n",
    "You may also revise the original input if you think that revising\\\n",
    "it will ultimately lead to a better response from the language model.\n",
    "\n",
    "<< FORMATTING >>\n",
    "Return a markdown code snippet with a JSON object formatted to look like:\n",
    "```json\n",
    "{{{{\n",
    "    \"destination\": string \\ \"DEFAULT\" or name of the prompt to use in {destinations}\n",
    "    \"next_inputs\": string \\ a potentially modified version of the original input\n",
    "}}}}\n",
    "```\n",
    "\n",
    "REMEMBER: The value of “destination” MUST match one of \\\n",
    "the candidate prompts listed below.\\\n",
    "If “destination” does not fit any of the specified prompts, set it to “DEFAULT.”\n",
    "REMEMBER: \"next_inputs\" can just be the original input \\\n",
    "if you don't think any modifications are needed.\n",
    "\n",
    "<< CANDIDATE PROMPTS >>\n",
    "{destinations}\n",
    "\n",
    "<< INPUT >>\n",
    "{{input}}\n",
    "\n",
    "<< OUTPUT (remember to include the ```json)>>\"\"\""
   ]
  },
  {
   "cell_type": "code",
   "execution_count": 27,
   "metadata": {},
   "outputs": [],
   "source": [
    "router_template = MULTI_PROMPT_ROUTER_TEMPLATE.format(\n",
    "    destinations=destinations_str\n",
    ")\n",
    "router_prompt = PromptTemplate(\n",
    "    template=router_template,\n",
    "    input_variables=[\"input\"],\n",
    "    output_parser=RouterOutputParser(),\n",
    ")\n",
    "\n",
    "router_chain = LLMRouterChain.from_llm(llm, router_prompt)"
   ]
  },
  {
   "cell_type": "code",
   "execution_count": 28,
   "metadata": {},
   "outputs": [
    {
     "name": "stderr",
     "output_type": "stream",
     "text": [
      "/var/folders/0t/xlg3nq8x63j3nxrs9x50yw9m0000gn/T/ipykernel_21358/3038952769.py:1: LangChainDeprecationWarning: Please see migration guide here for recommended implementation: https://python.langchain.com/docs/versions/migrating_chains/multi_prompt_chain/\n",
      "  chain = MultiPromptChain(router_chain=router_chain,\n"
     ]
    }
   ],
   "source": [
    "chain = MultiPromptChain(router_chain=router_chain, \n",
    "                         destination_chains=destination_chains, \n",
    "                         default_chain=default_chain, verbose=True\n",
    "                        )"
   ]
  },
  {
   "cell_type": "code",
   "execution_count": 29,
   "metadata": {},
   "outputs": [
    {
     "name": "stdout",
     "output_type": "stream",
     "text": [
      "\n",
      "\n",
      "\u001b[1m> Entering new MultiPromptChain chain...\u001b[0m\n",
      "physics: {'input': 'What are the characteristics of black body radiation in terms of its spectral distribution and temperature dependence?'}\n",
      "\u001b[1m> Finished chain.\u001b[0m\n"
     ]
    },
    {
     "data": {
      "text/plain": [
       "\"Black-body radiation! One of the most fascinating topics in physics.\\n\\nThe spectral distribution of black-body radiation, also known as Planck's law, describes how the energy is distributed across different wavelengths. The key characteristics are:\\n\\n1. **Spectral lines**: Black-body radiation emits a continuous spectrum of light, but it has distinct peaks at specific wavelengths, which correspond to the energy levels of the photons.\\n2. **Temperature dependence**: The spectral distribution changes with temperature. As the temperature increases, the peak wavelength shifts towards shorter wavelengths (bluer colors), and the intensity of the emission increases.\\n\\nThe relationship between temperature and wavelength is described by Wien's displacement law: Δλ = B / T, where Δλ is the change in wavelength, B is a constant, and T is the absolute temperature.\\n\\nIn terms of spectral distribution, black-body radiation can be divided into several regions:\\n\\n* **Infrared (IR)**: Temperature-dependent, with peaks at longer wavelengths.\\n* **Visible**: Constant peak at approximately 550 nm (yellow light).\\n* **Ultraviolet (UV)**: Decreasing intensity with increasing wavelength.\\n\\nNow, here's where it gets really interesting: the spectral distribution of black-body radiation is a fundamental aspect of quantum mechanics and thermodynamics. It was first described by Max Planck in 1900 and revolutionized our understanding of energy and matter.\\n\\nDo you have any follow-up questions or would you like me to elaborate on any of these points?\""
      ]
     },
     "execution_count": 29,
     "metadata": {},
     "output_type": "execute_result"
    }
   ],
   "source": [
    "chain.run(\"What is black body radiation?\")"
   ]
  },
  {
   "cell_type": "code",
   "execution_count": 30,
   "metadata": {},
   "outputs": [
    {
     "name": "stdout",
     "output_type": "stream",
     "text": [
      "\n",
      "\n",
      "\u001b[1m> Entering new MultiPromptChain chain...\u001b[0m\n",
      "math: {'input': 'what is 2 + 2'}\n",
      "\u001b[1m> Finished chain.\u001b[0m\n"
     ]
    },
    {
     "data": {
      "text/plain": [
       "'A simple yet fundamental question!\\n\\nTo break it down, let\\'s consider what we\\'re trying to find: the result of adding 2 and 2 together.\\n\\nThe first step is to recall the basic properties of addition. In this case, we can use the commutative property, which states that the order in which we add two numbers doesn\\'t change the result. So, we know that:\\n\\na + b = b + a\\n\\nIn our case, a = 2 and b = 2.\\n\\nNext, we can apply the associative property of addition, which allows us to regroup the terms when adding multiple numbers together. However, in this simple case, it\\'s not necessary.\\n\\nNow, let\\'s look at the actual numbers involved: 2 + 2. We can think of this as \"how many units do we have altogether?\" \\n\\nSince both numbers are equal (both are 2), we\\'re essentially counting how many times we have 2 added to itself. This is equivalent to multiplying 2 by 1, since any number multiplied by 1 remains the same.\\n\\nSo, using basic arithmetic operations, we can rewrite this as:\\n\\n2 + 2 = 2 × 1\\n= 2\\n\\nTherefore, the answer to 2 + 2 is... 4! (Not 2, I know it\\'s a simple question, but let me explain)'"
      ]
     },
     "execution_count": 30,
     "metadata": {},
     "output_type": "execute_result"
    }
   ],
   "source": [
    "chain.run(\"what is 2 + 2\")"
   ]
  },
  {
   "cell_type": "code",
   "execution_count": 31,
   "metadata": {},
   "outputs": [
    {
     "name": "stdout",
     "output_type": "stream",
     "text": [
      "\n",
      "\n",
      "\u001b[1m> Entering new MultiPromptChain chain...\u001b[0m\n",
      "physics: {'input': 'Why does the double helix structure of DNA have specific physical properties that allow it to store genetic information?'}\n",
      "\u001b[1m> Finished chain.\u001b[0m\n"
     ]
    },
    {
     "data": {
      "text/plain": [
       "\"The double helix structure of DNA is indeed a remarkable molecule, and its unique physical properties play a crucial role in storing genetic information. The main reason for this is due to the combination of hydrogen bonding, base pairing, and the geometry of the molecule.\\n\\nIn the double helix structure, two complementary strands of nucleotides are twisted together, with each nucleotide consisting of a sugar molecule (deoxyribose), a phosphate group, and one of four nitrogenous bases: adenine (A), guanine (G), cytosine (C), and thymine (T).\\n\\nThe hydrogen bonding between the nitrogenous bases is what holds the double helix structure together. The base pairing rules state that:\\n\\n* Adenine (A) pairs with Thymine (T)\\n* Guanine (G) pairs with Cytosine (C)\\n\\nThese hydrogen bonds are weak, but they provide a stable framework for the molecule. The geometry of the molecule also plays a crucial role, as the sugar-phosphate backbone provides a rigid structure that allows the double helix to maintain its shape.\\n\\nThe specific physical properties of DNA, such as its high melting temperature and resistance to denaturation, are due to these hydrogen bonds and the geometry of the molecule. The high melting temperature means that it takes a lot of energy to separate the two strands, making it stable under normal conditions. This stability allows the genetic information to be stored in a compact and organized manner.\\n\\nIn summary, the double helix structure of DNA has specific physical properties due to its unique combination of hydrogen bonding, base pairing, and geometry, which allow it to store genetic information in a compact and organized way.\\n\\n(And if you'd like more details or clarification on any aspect, feel free to ask!)\""
      ]
     },
     "execution_count": 31,
     "metadata": {},
     "output_type": "execute_result"
    }
   ],
   "source": [
    "chain.run(\"Why does every cell in our body contain DNA?\")"
   ]
  },
  {
   "cell_type": "code",
   "execution_count": null,
   "metadata": {},
   "outputs": [],
   "source": []
  }
 ],
 "metadata": {
  "kernelspec": {
   "display_name": ".venv",
   "language": "python",
   "name": "python3"
  },
  "language_info": {
   "codemirror_mode": {
    "name": "ipython",
    "version": 3
   },
   "file_extension": ".py",
   "mimetype": "text/x-python",
   "name": "python",
   "nbconvert_exporter": "python",
   "pygments_lexer": "ipython3",
   "version": "3.13.1"
  }
 },
 "nbformat": 4,
 "nbformat_minor": 2
}
